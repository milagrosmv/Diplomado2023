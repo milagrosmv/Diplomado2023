{
 "cells": [
  {
   "cell_type": "markdown",
   "id": "8bfd69b8",
   "metadata": {},
   "source": [
    "# Prueba"
   ]
  },
  {
   "cell_type": "markdown",
   "id": "5c2c85b1",
   "metadata": {},
   "source": [
    "primer notebook"
   ]
  },
  {
   "cell_type": "markdown",
   "id": "dbf1c475",
   "metadata": {},
   "source": [
    "cambio para branch"
   ]
  },
  {
   "cell_type": "code",
   "execution_count": null,
   "id": "32e4e81e",
   "metadata": {},
   "outputs": [],
   "source": []
  }
 ],
 "metadata": {
  "kernelspec": {
   "display_name": "Python 3 (ipykernel)",
   "language": "python",
   "name": "python3"
  },
  "language_info": {
   "codemirror_mode": {
    "name": "ipython",
    "version": 3
   },
   "file_extension": ".py",
   "mimetype": "text/x-python",
   "name": "python",
   "nbconvert_exporter": "python",
   "pygments_lexer": "ipython3",
   "version": "3.11.5"
  }
 },
 "nbformat": 4,
 "nbformat_minor": 5
}
