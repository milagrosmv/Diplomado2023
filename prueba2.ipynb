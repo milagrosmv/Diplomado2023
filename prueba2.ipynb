{
 "cells": [
  {
   "cell_type": "markdown",
   "id": "8bfd69b8",
   "metadata": {},
   "source": [
    "# Prueba"
   ]
  },
  {
   "cell_type": "markdown",
   "id": "5c2c85b1",
   "metadata": {},
   "source": [
    "primer notebook"
   ]
  },
  {
   "cell_type": "markdown",
   "id": "dbf1c475",
   "metadata": {},
   "source": [
    "cambio para branch"
   ]
  },
  {
   "cell_type": "code",
   "execution_count": 1,
   "id": "32e4e81e",
   "metadata": {},
   "outputs": [],
   "source": [
    "mi_tupla = (1, 2, 3, 4)"
   ]
  },
  {
   "cell_type": "code",
   "execution_count": 2,
   "id": "12dfc0d3",
   "metadata": {},
   "outputs": [],
   "source": [
    "def suma_elementos(tupla):\n",
    "    return sum(tupla)"
   ]
  },
  {
   "cell_type": "code",
   "execution_count": 3,
   "id": "5b541fa2",
   "metadata": {},
   "outputs": [],
   "source": [
    "resultados = map(suma_elementos, zip(mi_tupla, mi_tupla))"
   ]
  },
  {
   "cell_type": "code",
   "execution_count": 4,
   "id": "aa3a7bff",
   "metadata": {},
   "outputs": [],
   "source": [
    "resultados_lista = list(resultados)"
   ]
  },
  {
   "cell_type": "code",
   "execution_count": 5,
   "id": "6d92f576",
   "metadata": {},
   "outputs": [
    {
     "name": "stdout",
     "output_type": "stream",
     "text": [
      "[2, 4, 6, 8]\n"
     ]
    }
   ],
   "source": [
    "print(resultados_lista)"
   ]
  },
  {
   "cell_type": "code",
   "execution_count": 6,
   "id": "6a1a0128",
   "metadata": {},
   "outputs": [],
   "source": [
    "mi_tupla2 = (1, 2, 3, 4, 5)"
   ]
  },
  {
   "cell_type": "code",
   "execution_count": 7,
   "id": "87ab32b9",
   "metadata": {},
   "outputs": [],
   "source": [
    "resultado2 = sum(map(int, mi_tupla2))"
   ]
  },
  {
   "cell_type": "code",
   "execution_count": 8,
   "id": "f94c39fb",
   "metadata": {},
   "outputs": [
    {
     "name": "stdout",
     "output_type": "stream",
     "text": [
      "15\n"
     ]
    }
   ],
   "source": [
    "print(resultado2)"
   ]
  },
  {
   "cell_type": "code",
   "execution_count": 9,
   "id": "3b4be846",
   "metadata": {},
   "outputs": [
    {
     "data": {
      "text/plain": [
       "int"
      ]
     },
     "execution_count": 9,
     "metadata": {},
     "output_type": "execute_result"
    }
   ],
   "source": [
    "type(resultado2)"
   ]
  },
  {
   "cell_type": "code",
   "execution_count": 10,
   "id": "4f3b3489",
   "metadata": {},
   "outputs": [
    {
     "data": {
      "text/plain": [
       "tuple"
      ]
     },
     "execution_count": 10,
     "metadata": {},
     "output_type": "execute_result"
    }
   ],
   "source": [
    "type(mi_tupla2)"
   ]
  },
  {
   "cell_type": "code",
   "execution_count": 11,
   "id": "2d30171e",
   "metadata": {},
   "outputs": [
    {
     "data": {
      "text/plain": [
       "map"
      ]
     },
     "execution_count": 11,
     "metadata": {},
     "output_type": "execute_result"
    }
   ],
   "source": [
    "type(map(int, mi_tupla2))"
   ]
  },
  {
   "cell_type": "code",
   "execution_count": 15,
   "id": "6b4856ea",
   "metadata": {},
   "outputs": [],
   "source": [
    "mi_tupla3 = ([1,2],[5,6])"
   ]
  },
  {
   "cell_type": "code",
   "execution_count": 22,
   "id": "367a5d8d",
   "metadata": {},
   "outputs": [
    {
     "data": {
      "text/plain": [
       "14"
      ]
     },
     "execution_count": 22,
     "metadata": {},
     "output_type": "execute_result"
    }
   ],
   "source": [
    "sum(list(map(sum, mi_tupla3)))"
   ]
  },
  {
   "cell_type": "code",
   "execution_count": 17,
   "id": "647e74e3",
   "metadata": {},
   "outputs": [
    {
     "name": "stdout",
     "output_type": "stream",
     "text": [
      "[3, 11]\n"
     ]
    }
   ],
   "source": [
    "print(sum_elements)"
   ]
  },
  {
   "cell_type": "code",
   "execution_count": 18,
   "id": "66464d48",
   "metadata": {},
   "outputs": [],
   "source": [
    "sum_total = sum(sum_elements)"
   ]
  },
  {
   "cell_type": "code",
   "execution_count": 19,
   "id": "edb3af14",
   "metadata": {},
   "outputs": [
    {
     "name": "stdout",
     "output_type": "stream",
     "text": [
      "14\n"
     ]
    }
   ],
   "source": [
    "print(sum_total)"
   ]
  },
  {
   "cell_type": "code",
   "execution_count": 20,
   "id": "4863bfe0",
   "metadata": {},
   "outputs": [],
   "source": [
    "lista3 = list(mi_tupla3)"
   ]
  },
  {
   "cell_type": "code",
   "execution_count": 21,
   "id": "3a900848",
   "metadata": {},
   "outputs": [
    {
     "data": {
      "text/plain": [
       "14"
      ]
     },
     "execution_count": 21,
     "metadata": {},
     "output_type": "execute_result"
    }
   ],
   "source": [
    "sum(list(map(sum, lista3)))"
   ]
  },
  {
   "cell_type": "code",
   "execution_count": 23,
   "id": "8bcd2320",
   "metadata": {},
   "outputs": [
    {
     "data": {
      "text/plain": [
       "15"
      ]
     },
     "execution_count": 23,
     "metadata": {},
     "output_type": "execute_result"
    }
   ],
   "source": [
    "sum(mi_tupla2)"
   ]
  },
  {
   "cell_type": "code",
   "execution_count": null,
   "id": "0e5436a6",
   "metadata": {},
   "outputs": [],
   "source": []
  }
 ],
 "metadata": {
  "kernelspec": {
   "display_name": "Python 3 (ipykernel)",
   "language": "python",
   "name": "python3"
  },
  "language_info": {
   "codemirror_mode": {
    "name": "ipython",
    "version": 3
   },
   "file_extension": ".py",
   "mimetype": "text/x-python",
   "name": "python",
   "nbconvert_exporter": "python",
   "pygments_lexer": "ipython3",
   "version": "3.11.5"
  }
 },
 "nbformat": 4,
 "nbformat_minor": 5
}
